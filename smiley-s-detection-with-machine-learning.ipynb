{
 "cells": [
  {
   "cell_type": "code",
   "execution_count": 1,
   "id": "61f6d894",
   "metadata": {
    "_cell_guid": "b1076dfc-b9ad-4769-8c92-a6c4dae69d19",
    "_uuid": "8f2839f25d086af736a60e9eeb907d3b93b6e0e5",
    "execution": {
     "iopub.execute_input": "2022-12-18T13:15:24.141154Z",
     "iopub.status.busy": "2022-12-18T13:15:24.140643Z",
     "iopub.status.idle": "2022-12-18T13:15:24.159242Z",
     "shell.execute_reply": "2022-12-18T13:15:24.157869Z"
    },
    "jupyter": {
     "source_hidden": true
    },
    "papermill": {
     "duration": 0.029324,
     "end_time": "2022-12-18T13:15:24.163209",
     "exception": false,
     "start_time": "2022-12-18T13:15:24.133885",
     "status": "completed"
    },
    "tags": []
   },
   "outputs": [
    {
     "name": "stdout",
     "output_type": "stream",
     "text": [
      "/kaggle/input/texttxt/Smileys_Detection.text\n"
     ]
    }
   ],
   "source": [
    "# This Python 3 environment comes with many helpful analytics libraries installed\n",
    "# It is defined by the kaggle/python Docker image: https://github.com/kaggle/docker-python\n",
    "# For example, here's several helpful packages to load\n",
    "\n",
    "import numpy as np # linear algebra\n",
    "import pandas as pd # data processing, CSV file I/O (e.g. pd.read_csv)\n",
    "\n",
    "# Input data files are available in the read-only \"../input/\" directory\n",
    "# For example, running this (by clicking run or pressing Shift+Enter) will list all files under the input directory\n",
    "\n",
    "import os\n",
    "for dirname, _, filenames in os.walk('/kaggle/input'):\n",
    "    for filename in filenames:\n",
    "        print(os.path.join(dirname, filename))\n",
    "\n",
    "# You can write up to 20GB to the current directory (/kaggle/working/) that gets preserved as output when you create a version using \"Save & Run All\" \n",
    "# You can also write temporary files to /kaggle/temp/, but they won't be saved outside of the current session"
   ]
  },
  {
   "cell_type": "code",
   "execution_count": 2,
   "id": "fedc4bee",
   "metadata": {
    "execution": {
     "iopub.execute_input": "2022-12-18T13:15:24.172038Z",
     "iopub.status.busy": "2022-12-18T13:15:24.171596Z",
     "iopub.status.idle": "2022-12-18T13:15:25.766704Z",
     "shell.execute_reply": "2022-12-18T13:15:25.765384Z"
    },
    "papermill": {
     "duration": 1.602319,
     "end_time": "2022-12-18T13:15:25.769299",
     "exception": false,
     "start_time": "2022-12-18T13:15:24.166980",
     "status": "completed"
    },
    "tags": []
   },
   "outputs": [
    {
     "name": "stdout",
     "output_type": "stream",
     "text": [
      "Number of instances: 7480\n"
     ]
    }
   ],
   "source": [
    "import re \n",
    "from collections import Counter\n",
    "from sklearn.model_selection import train_test_split\n",
    "from sklearn.metrics import accuracy_score\n",
    "from sklearn.svm import SVC\n",
    "from sklearn.svm import LinearSVC\n",
    "from sklearn.ensemble import RandomForestClassifier\n",
    "from sklearn.tree import DecisionTreeClassifier\n",
    "\n",
    "def read_data(file):\n",
    "    data = []\n",
    "    with open(file, 'r')as f:\n",
    "        for line in f:\n",
    "            line = line.strip()\n",
    "            label = ' '.join(line[1:line.find(\"]\")].strip().split())\n",
    "            text = line[line.find(\"]\")+1:].strip()\n",
    "            data.append([label, text])\n",
    "    return data\n",
    "\n",
    "file = '/kaggle/input/texttxt/Smileys_Detection.text'\n",
    "data = read_data(file)\n",
    "print(\"Number of instances: {}\".format(len(data)))"
   ]
  },
  {
   "cell_type": "code",
   "execution_count": 3,
   "id": "d15410df",
   "metadata": {
    "execution": {
     "iopub.execute_input": "2022-12-18T13:15:25.778842Z",
     "iopub.status.busy": "2022-12-18T13:15:25.777671Z",
     "iopub.status.idle": "2022-12-18T13:15:25.787056Z",
     "shell.execute_reply": "2022-12-18T13:15:25.785892Z"
    },
    "papermill": {
     "duration": 0.016814,
     "end_time": "2022-12-18T13:15:25.789653",
     "exception": false,
     "start_time": "2022-12-18T13:15:25.772839",
     "status": "completed"
    },
    "tags": []
   },
   "outputs": [],
   "source": [
    "def ngram(token, n): \n",
    "    output = []\n",
    "    for i in range(n-1, len(token)): \n",
    "        ngram = ' '.join(token[i-n+1:i+1])\n",
    "        output.append(ngram) \n",
    "    return output\n",
    "\n",
    "def create_feature(text, nrange=(1, 1)):\n",
    "    text_features = [] \n",
    "    text = text.lower() \n",
    "    text_alphanum = re.sub('[^a-z0-9#]', ' ', text)\n",
    "    for n in range(nrange[0], nrange[1]+1): \n",
    "        text_features += ngram(text_alphanum.split(), n)    \n",
    "    text_punc = re.sub('[a-z0-9]', ' ', text)\n",
    "    text_features += ngram(text_punc.split(), 1)\n",
    "    return Counter(text_features)"
   ]
  },
  {
   "cell_type": "code",
   "execution_count": 4,
   "id": "65eface8",
   "metadata": {
    "execution": {
     "iopub.execute_input": "2022-12-18T13:15:25.798927Z",
     "iopub.status.busy": "2022-12-18T13:15:25.798035Z",
     "iopub.status.idle": "2022-12-18T13:15:26.659783Z",
     "shell.execute_reply": "2022-12-18T13:15:26.658352Z"
    },
    "papermill": {
     "duration": 0.869894,
     "end_time": "2022-12-18T13:15:26.662939",
     "exception": false,
     "start_time": "2022-12-18T13:15:25.793045",
     "status": "completed"
    },
    "tags": []
   },
   "outputs": [],
   "source": [
    "def convert_label(item, name): \n",
    "    items = list(map(float, item.split()))\n",
    "    label = \"\"\n",
    "    for idx in range(len(items)): \n",
    "        if items[idx] == 1: \n",
    "            label += name[idx] + \" \"\n",
    "    \n",
    "    return label.strip()\n",
    "\n",
    "emotions = [\"joy\", 'fear', \"anger\", \"sadness\", \"disgust\", \"shame\", \"guilt\"]\n",
    "\n",
    "X_all = []\n",
    "y_all = []\n",
    "for label, text in data:\n",
    "    y_all.append(convert_label(label, emotions))\n",
    "    X_all.append(create_feature(text, nrange=(1, 4)))"
   ]
  },
  {
   "cell_type": "code",
   "execution_count": 5,
   "id": "78744c88",
   "metadata": {
    "execution": {
     "iopub.execute_input": "2022-12-18T13:15:26.673438Z",
     "iopub.status.busy": "2022-12-18T13:15:26.672087Z",
     "iopub.status.idle": "2022-12-18T13:15:28.310019Z",
     "shell.execute_reply": "2022-12-18T13:15:28.308333Z"
    },
    "papermill": {
     "duration": 1.646505,
     "end_time": "2022-12-18T13:15:28.313040",
     "exception": false,
     "start_time": "2022-12-18T13:15:26.666535",
     "status": "completed"
    },
    "tags": []
   },
   "outputs": [],
   "source": [
    "X_train, X_test, y_train, y_test = train_test_split(X_all, y_all, test_size = 0.2, random_state = 123)\n",
    "\n",
    "def train_test(clf, X_train, X_test, y_train, y_test):\n",
    "    clf.fit(X_train, y_train)\n",
    "    train_acc = accuracy_score(y_train, clf.predict(X_train))\n",
    "    test_acc = accuracy_score(y_test, clf.predict(X_test))\n",
    "    return train_acc, test_acc\n",
    "\n",
    "from sklearn.feature_extraction import DictVectorizer\n",
    "vectorizer = DictVectorizer(sparse = True)\n",
    "X_train = vectorizer.fit_transform(X_train)\n",
    "X_test = vectorizer.transform(X_test)"
   ]
  },
  {
   "cell_type": "code",
   "execution_count": 6,
   "id": "eb85cb69",
   "metadata": {
    "execution": {
     "iopub.execute_input": "2022-12-18T13:15:28.322424Z",
     "iopub.status.busy": "2022-12-18T13:15:28.321967Z",
     "iopub.status.idle": "2022-12-18T13:18:16.296956Z",
     "shell.execute_reply": "2022-12-18T13:18:16.295112Z"
    },
    "papermill": {
     "duration": 167.983201,
     "end_time": "2022-12-18T13:18:16.300013",
     "exception": false,
     "start_time": "2022-12-18T13:15:28.316812",
     "status": "completed"
    },
    "tags": []
   },
   "outputs": [
    {
     "name": "stdout",
     "output_type": "stream",
     "text": [
      "| Classifier                | Training Accuracy | Test Accuracy |\n",
      "| ------------------------- | ----------------- | ------------- |\n",
      "| SVC                       |         0.9067513 |     0.4512032 |\n"
     ]
    },
    {
     "name": "stderr",
     "output_type": "stream",
     "text": [
      "/opt/conda/lib/python3.7/site-packages/sklearn/svm/_base.py:1208: ConvergenceWarning: Liblinear failed to converge, increase the number of iterations.\n",
      "  ConvergenceWarning,\n"
     ]
    },
    {
     "name": "stdout",
     "output_type": "stream",
     "text": [
      "| LinearSVC                 |         0.9988302 |     0.5768717 |\n",
      "| RandomForestClassifier    |         0.9988302 |     0.5541444 |\n",
      "| DecisionTreeClassifier    |         0.9988302 |     0.4578877 |\n"
     ]
    }
   ],
   "source": [
    "svc = SVC()\n",
    "lsvc = LinearSVC(random_state=123)\n",
    "rforest = RandomForestClassifier(random_state=123)\n",
    "dtree = DecisionTreeClassifier()\n",
    "\n",
    "clifs = [svc, lsvc, rforest, dtree]\n",
    "\n",
    "# train and test them \n",
    "print(\"| {:25} | {} | {} |\".format(\"Classifier\", \"Training Accuracy\", \"Test Accuracy\"))\n",
    "print(\"| {} | {} | {} |\".format(\"-\"*25, \"-\"*17, \"-\"*13))\n",
    "for clf in clifs: \n",
    "    clf_name = clf.__class__.__name__\n",
    "    train_acc, test_acc = train_test(clf, X_train, X_test, y_train, y_test)\n",
    "    print(\"| {:25} | {:17.7f} | {:13.7f} |\".format(clf_name, train_acc, test_acc))"
   ]
  },
  {
   "cell_type": "code",
   "execution_count": 7,
   "id": "fa660ace",
   "metadata": {
    "execution": {
     "iopub.execute_input": "2022-12-18T13:18:16.311036Z",
     "iopub.status.busy": "2022-12-18T13:18:16.310559Z",
     "iopub.status.idle": "2022-12-18T13:18:16.323478Z",
     "shell.execute_reply": "2022-12-18T13:18:16.321571Z"
    },
    "papermill": {
     "duration": 0.02238,
     "end_time": "2022-12-18T13:18:16.326819",
     "exception": false,
     "start_time": "2022-12-18T13:18:16.304439",
     "status": "completed"
    },
    "tags": []
   },
   "outputs": [
    {
     "name": "stdout",
     "output_type": "stream",
     "text": [
      "joy       (1. 0. 0. 0. 0. 0. 0.)  1084\n",
      "anger     (0. 0. 1. 0. 0. 0. 0.)  1080\n",
      "sadness   (0. 0. 0. 1. 0. 0. 0.)  1079\n",
      "fear      (0. 1. 0. 0. 0. 0. 0.)  1078\n",
      "disgust   (0. 0. 0. 0. 1. 0. 0.)  1057\n",
      "guilt     (0. 0. 0. 0. 0. 0. 1.)  1057\n",
      "shame     (0. 0. 0. 0. 0. 1. 0.)  1045\n"
     ]
    }
   ],
   "source": [
    "l = [\"joy\", 'fear', \"anger\", \"sadness\", \"disgust\", \"shame\", \"guilt\"]\n",
    "l.sort()\n",
    "label_freq = {}\n",
    "for label, _ in data: \n",
    "    label_freq[label] = label_freq.get(label, 0) + 1\n",
    "\n",
    "# print the labels and their counts in sorted order \n",
    "for l in sorted(label_freq, key=label_freq.get, reverse=True):\n",
    "    print(\"{:10}({})  {}\".format(convert_label(l, emotions), l, label_freq[l]))"
   ]
  },
  {
   "cell_type": "code",
   "execution_count": 8,
   "id": "270fe4fb",
   "metadata": {
    "execution": {
     "iopub.execute_input": "2022-12-18T13:18:16.337222Z",
     "iopub.status.busy": "2022-12-18T13:18:16.336770Z",
     "iopub.status.idle": "2022-12-18T13:18:16.352710Z",
     "shell.execute_reply": "2022-12-18T13:18:16.350205Z"
    },
    "papermill": {
     "duration": 0.025077,
     "end_time": "2022-12-18T13:18:16.356155",
     "exception": false,
     "start_time": "2022-12-18T13:18:16.331078",
     "status": "completed"
    },
    "tags": []
   },
   "outputs": [
    {
     "name": "stdout",
     "output_type": "stream",
     "text": [
      "This looks so dirty 😒\n",
      "I have love dogs 😊\n",
      "My dog died yesterday 😔\n",
      "I don't love you anymore..! 😊\n",
      "This is not so impressive 😨\n"
     ]
    }
   ],
   "source": [
    "emoji_dict = {\"joy\":\"😊\", \"fear\":\"😱\", \"anger\":\"😡\", \"sadness\":\"😔\", \"disgust\":\"😒\", \"shame\":\"😨\", \"guilt\":\"😳\"}\n",
    "t1 = \"This looks so dirty\"\n",
    "t2 = \"I have love dogs\"\n",
    "t3 = \"My dog died yesterday\"\n",
    "t4 = \"I don't love you anymore..!\"\n",
    "t5 = \"This is not so impressive\"\n",
    "\n",
    "texts = [t1, t2, t3, t4, t5]\n",
    "for text in texts: \n",
    "    features = create_feature(text, nrange=(1, 4))\n",
    "    features = vectorizer.transform(features)\n",
    "    prediction = clf.predict(features)[0]\n",
    "    print( text,emoji_dict[prediction])"
   ]
  },
  {
   "cell_type": "markdown",
   "id": "b164b8ec",
   "metadata": {
    "papermill": {
     "duration": 0.003931,
     "end_time": "2022-12-18T13:18:16.364296",
     "exception": false,
     "start_time": "2022-12-18T13:18:16.360365",
     "status": "completed"
    },
    "tags": []
   },
   "source": []
  }
 ],
 "metadata": {
  "kernelspec": {
   "display_name": "Python 3",
   "language": "python",
   "name": "python3"
  },
  "language_info": {
   "codemirror_mode": {
    "name": "ipython",
    "version": 3
   },
   "file_extension": ".py",
   "mimetype": "text/x-python",
   "name": "python",
   "nbconvert_exporter": "python",
   "pygments_lexer": "ipython3",
   "version": "3.7.12"
  },
  "papermill": {
   "default_parameters": {},
   "duration": 185.649175,
   "end_time": "2022-12-18T13:18:17.294913",
   "environment_variables": {},
   "exception": null,
   "input_path": "__notebook__.ipynb",
   "output_path": "__notebook__.ipynb",
   "parameters": {},
   "start_time": "2022-12-18T13:15:11.645738",
   "version": "2.3.4"
  }
 },
 "nbformat": 4,
 "nbformat_minor": 5
}
